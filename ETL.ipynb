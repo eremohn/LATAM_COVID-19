{
 "cells": [
  {
   "cell_type": "markdown",
   "metadata": {},
   "source": [
    "## librerias"
   ]
  },
  {
   "cell_type": "code",
   "execution_count": 1,
   "metadata": {},
   "outputs": [],
   "source": [
    "import pandas as pd\n",
    "import numpy as np\n",
    "import os\n",
    "import matplotlib as plt\n",
    "import seaborn as sns\n",
    "import scipy.interpolate as interpolate"
   ]
  },
  {
   "cell_type": "markdown",
   "metadata": {},
   "source": [
    "## Carga de datos "
   ]
  },
  {
   "cell_type": "code",
   "execution_count": 2,
   "metadata": {},
   "outputs": [],
   "source": [
    "\n",
    "# Leer el archivo CSV\n",
    "data_latinoamerica = pd.read_csv(\"data_latinoamerica.csv\")\n"
   ]
  },
  {
   "cell_type": "markdown",
   "metadata": {},
   "source": [
    "##  Se realiza un analisis exploratorio inicial para poder entender las caracteristicas de los datos que se poseen  "
   ]
  },
  {
   "cell_type": "code",
   "execution_count": 3,
   "metadata": {},
   "outputs": [
    {
     "data": {
      "text/html": [
       "<div>\n",
       "<style scoped>\n",
       "    .dataframe tbody tr th:only-of-type {\n",
       "        vertical-align: middle;\n",
       "    }\n",
       "\n",
       "    .dataframe tbody tr th {\n",
       "        vertical-align: top;\n",
       "    }\n",
       "\n",
       "    .dataframe thead th {\n",
       "        text-align: right;\n",
       "    }\n",
       "</style>\n",
       "<table border=\"1\" class=\"dataframe\">\n",
       "  <thead>\n",
       "    <tr style=\"text-align: right;\">\n",
       "      <th></th>\n",
       "      <th>location_key</th>\n",
       "      <th>date</th>\n",
       "      <th>country_code</th>\n",
       "      <th>country_name</th>\n",
       "      <th>new_confirmed</th>\n",
       "      <th>new_deceased</th>\n",
       "      <th>cumulative_confirmed</th>\n",
       "      <th>cumulative_deceased</th>\n",
       "      <th>cumulative_vaccine_doses_administered</th>\n",
       "      <th>population</th>\n",
       "      <th>...</th>\n",
       "      <th>population_largest_city</th>\n",
       "      <th>area_rural_sq_km</th>\n",
       "      <th>area_urban_sq_km</th>\n",
       "      <th>life_expectancy</th>\n",
       "      <th>adult_male_mortality_rate</th>\n",
       "      <th>adult_female_mortality_rate</th>\n",
       "      <th>pollution_mortality_rate</th>\n",
       "      <th>comorbidity_mortality_rate</th>\n",
       "      <th>new_recovered</th>\n",
       "      <th>cumulative_recovered</th>\n",
       "    </tr>\n",
       "  </thead>\n",
       "  <tbody>\n",
       "    <tr>\n",
       "      <th>0</th>\n",
       "      <td>AR</td>\n",
       "      <td>2020-01-01</td>\n",
       "      <td>AR</td>\n",
       "      <td>Argentina</td>\n",
       "      <td>3.0</td>\n",
       "      <td>0.0</td>\n",
       "      <td>3.0</td>\n",
       "      <td>0.0</td>\n",
       "      <td>NaN</td>\n",
       "      <td>44938712.0</td>\n",
       "      <td>...</td>\n",
       "      <td>15057273.0</td>\n",
       "      <td>2690269.0</td>\n",
       "      <td>55032.0</td>\n",
       "      <td>76.52</td>\n",
       "      <td>147.086</td>\n",
       "      <td>79.483</td>\n",
       "      <td>26.6</td>\n",
       "      <td>15.8</td>\n",
       "      <td>NaN</td>\n",
       "      <td>NaN</td>\n",
       "    </tr>\n",
       "    <tr>\n",
       "      <th>1</th>\n",
       "      <td>AR</td>\n",
       "      <td>2020-01-02</td>\n",
       "      <td>AR</td>\n",
       "      <td>Argentina</td>\n",
       "      <td>14.0</td>\n",
       "      <td>0.0</td>\n",
       "      <td>17.0</td>\n",
       "      <td>0.0</td>\n",
       "      <td>NaN</td>\n",
       "      <td>44938712.0</td>\n",
       "      <td>...</td>\n",
       "      <td>15057273.0</td>\n",
       "      <td>2690269.0</td>\n",
       "      <td>55032.0</td>\n",
       "      <td>76.52</td>\n",
       "      <td>147.086</td>\n",
       "      <td>79.483</td>\n",
       "      <td>26.6</td>\n",
       "      <td>15.8</td>\n",
       "      <td>NaN</td>\n",
       "      <td>NaN</td>\n",
       "    </tr>\n",
       "    <tr>\n",
       "      <th>2</th>\n",
       "      <td>AR</td>\n",
       "      <td>2020-01-03</td>\n",
       "      <td>AR</td>\n",
       "      <td>Argentina</td>\n",
       "      <td>3.0</td>\n",
       "      <td>0.0</td>\n",
       "      <td>20.0</td>\n",
       "      <td>0.0</td>\n",
       "      <td>NaN</td>\n",
       "      <td>44938712.0</td>\n",
       "      <td>...</td>\n",
       "      <td>15057273.0</td>\n",
       "      <td>2690269.0</td>\n",
       "      <td>55032.0</td>\n",
       "      <td>76.52</td>\n",
       "      <td>147.086</td>\n",
       "      <td>79.483</td>\n",
       "      <td>26.6</td>\n",
       "      <td>15.8</td>\n",
       "      <td>NaN</td>\n",
       "      <td>NaN</td>\n",
       "    </tr>\n",
       "    <tr>\n",
       "      <th>3</th>\n",
       "      <td>AR</td>\n",
       "      <td>2020-01-04</td>\n",
       "      <td>AR</td>\n",
       "      <td>Argentina</td>\n",
       "      <td>7.0</td>\n",
       "      <td>0.0</td>\n",
       "      <td>27.0</td>\n",
       "      <td>0.0</td>\n",
       "      <td>NaN</td>\n",
       "      <td>44938712.0</td>\n",
       "      <td>...</td>\n",
       "      <td>15057273.0</td>\n",
       "      <td>2690269.0</td>\n",
       "      <td>55032.0</td>\n",
       "      <td>76.52</td>\n",
       "      <td>147.086</td>\n",
       "      <td>79.483</td>\n",
       "      <td>26.6</td>\n",
       "      <td>15.8</td>\n",
       "      <td>NaN</td>\n",
       "      <td>NaN</td>\n",
       "    </tr>\n",
       "    <tr>\n",
       "      <th>4</th>\n",
       "      <td>AR</td>\n",
       "      <td>2020-01-05</td>\n",
       "      <td>AR</td>\n",
       "      <td>Argentina</td>\n",
       "      <td>5.0</td>\n",
       "      <td>0.0</td>\n",
       "      <td>32.0</td>\n",
       "      <td>0.0</td>\n",
       "      <td>NaN</td>\n",
       "      <td>44938712.0</td>\n",
       "      <td>...</td>\n",
       "      <td>15057273.0</td>\n",
       "      <td>2690269.0</td>\n",
       "      <td>55032.0</td>\n",
       "      <td>76.52</td>\n",
       "      <td>147.086</td>\n",
       "      <td>79.483</td>\n",
       "      <td>26.6</td>\n",
       "      <td>15.8</td>\n",
       "      <td>NaN</td>\n",
       "      <td>NaN</td>\n",
       "    </tr>\n",
       "  </tbody>\n",
       "</table>\n",
       "<p>5 rows × 50 columns</p>\n",
       "</div>"
      ],
      "text/plain": [
       "  location_key        date country_code country_name  new_confirmed  \\\n",
       "0           AR  2020-01-01           AR    Argentina            3.0   \n",
       "1           AR  2020-01-02           AR    Argentina           14.0   \n",
       "2           AR  2020-01-03           AR    Argentina            3.0   \n",
       "3           AR  2020-01-04           AR    Argentina            7.0   \n",
       "4           AR  2020-01-05           AR    Argentina            5.0   \n",
       "\n",
       "   new_deceased  cumulative_confirmed  cumulative_deceased  \\\n",
       "0           0.0                   3.0                  0.0   \n",
       "1           0.0                  17.0                  0.0   \n",
       "2           0.0                  20.0                  0.0   \n",
       "3           0.0                  27.0                  0.0   \n",
       "4           0.0                  32.0                  0.0   \n",
       "\n",
       "   cumulative_vaccine_doses_administered  population  ...  \\\n",
       "0                                    NaN  44938712.0  ...   \n",
       "1                                    NaN  44938712.0  ...   \n",
       "2                                    NaN  44938712.0  ...   \n",
       "3                                    NaN  44938712.0  ...   \n",
       "4                                    NaN  44938712.0  ...   \n",
       "\n",
       "   population_largest_city  area_rural_sq_km  area_urban_sq_km  \\\n",
       "0               15057273.0         2690269.0           55032.0   \n",
       "1               15057273.0         2690269.0           55032.0   \n",
       "2               15057273.0         2690269.0           55032.0   \n",
       "3               15057273.0         2690269.0           55032.0   \n",
       "4               15057273.0         2690269.0           55032.0   \n",
       "\n",
       "   life_expectancy  adult_male_mortality_rate  adult_female_mortality_rate  \\\n",
       "0            76.52                    147.086                       79.483   \n",
       "1            76.52                    147.086                       79.483   \n",
       "2            76.52                    147.086                       79.483   \n",
       "3            76.52                    147.086                       79.483   \n",
       "4            76.52                    147.086                       79.483   \n",
       "\n",
       "   pollution_mortality_rate  comorbidity_mortality_rate  new_recovered  \\\n",
       "0                      26.6                        15.8            NaN   \n",
       "1                      26.6                        15.8            NaN   \n",
       "2                      26.6                        15.8            NaN   \n",
       "3                      26.6                        15.8            NaN   \n",
       "4                      26.6                        15.8            NaN   \n",
       "\n",
       "   cumulative_recovered  \n",
       "0                   NaN  \n",
       "1                   NaN  \n",
       "2                   NaN  \n",
       "3                   NaN  \n",
       "4                   NaN  \n",
       "\n",
       "[5 rows x 50 columns]"
      ]
     },
     "execution_count": 3,
     "metadata": {},
     "output_type": "execute_result"
    }
   ],
   "source": [
    "# se imprimen los primeros datos\n",
    "data_latinoamerica.head()"
   ]
  },
  {
   "cell_type": "markdown",
   "metadata": {},
   "source": [
    "## Se obtiene la informacion del dataframe "
   ]
  },
  {
   "cell_type": "code",
   "execution_count": 4,
   "metadata": {},
   "outputs": [
    {
     "name": "stdout",
     "output_type": "stream",
     "text": [
      "<class 'pandas.core.frame.DataFrame'>\n",
      "RangeIndex: 12216057 entries, 0 to 12216056\n",
      "Data columns (total 50 columns):\n",
      " #   Column                                 Dtype  \n",
      "---  ------                                 -----  \n",
      " 0   location_key                           object \n",
      " 1   date                                   object \n",
      " 2   country_code                           object \n",
      " 3   country_name                           object \n",
      " 4   new_confirmed                          float64\n",
      " 5   new_deceased                           float64\n",
      " 6   cumulative_confirmed                   float64\n",
      " 7   cumulative_deceased                    float64\n",
      " 8   cumulative_vaccine_doses_administered  float64\n",
      " 9   population                             float64\n",
      " 10  population_male                        float64\n",
      " 11  population_female                      float64\n",
      " 12  population_rural                       float64\n",
      " 13  population_urban                       float64\n",
      " 14  population_density                     float64\n",
      " 15  human_development_index                float64\n",
      " 16  population_age_00_09                   float64\n",
      " 17  population_age_10_19                   float64\n",
      " 18  population_age_20_29                   float64\n",
      " 19  population_age_30_39                   float64\n",
      " 20  population_age_40_49                   float64\n",
      " 21  population_age_50_59                   float64\n",
      " 22  population_age_60_69                   float64\n",
      " 23  population_age_70_79                   float64\n",
      " 24  population_age_80_and_older            float64\n",
      " 25  gdp_usd                                float64\n",
      " 26  gdp_per_capita_usd                     float64\n",
      " 27  latitude                               float64\n",
      " 28  longitude                              float64\n",
      " 29  area_sq_km                             float64\n",
      " 30  smoking_prevalence                     float64\n",
      " 31  diabetes_prevalence                    float64\n",
      " 32  infant_mortality_rate                  float64\n",
      " 33  nurses_per_1000                        float64\n",
      " 34  physicians_per_1000                    float64\n",
      " 35  average_temperature_celsius            float64\n",
      " 36  minimum_temperature_celsius            float64\n",
      " 37  maximum_temperature_celsius            float64\n",
      " 38  rainfall_mm                            float64\n",
      " 39  relative_humidity                      float64\n",
      " 40  population_largest_city                float64\n",
      " 41  area_rural_sq_km                       float64\n",
      " 42  area_urban_sq_km                       float64\n",
      " 43  life_expectancy                        float64\n",
      " 44  adult_male_mortality_rate              float64\n",
      " 45  adult_female_mortality_rate            float64\n",
      " 46  pollution_mortality_rate               float64\n",
      " 47  comorbidity_mortality_rate             float64\n",
      " 48  new_recovered                          float64\n",
      " 49  cumulative_recovered                   float64\n",
      "dtypes: float64(46), object(4)\n",
      "memory usage: 4.6+ GB\n"
     ]
    }
   ],
   "source": [
    "data_latinoamerica.info()"
   ]
  },
  {
   "cell_type": "markdown",
   "metadata": {},
   "source": [
    "## Obtenemos las dimensiones (forma) de un array o estructura de datos similar. (filas, columnas)"
   ]
  },
  {
   "cell_type": "code",
   "execution_count": 5,
   "metadata": {},
   "outputs": [
    {
     "data": {
      "text/plain": [
       "(12216057, 50)"
      ]
     },
     "execution_count": 5,
     "metadata": {},
     "output_type": "execute_result"
    }
   ],
   "source": [
    "np.shape(data_latinoamerica)"
   ]
  },
  {
   "cell_type": "markdown",
   "metadata": {},
   "source": [
    "## Contamos la cantidad de nulos de todas las columnas "
   ]
  },
  {
   "cell_type": "code",
   "execution_count": 6,
   "metadata": {},
   "outputs": [
    {
     "name": "stdout",
     "output_type": "stream",
     "text": [
      "Cantidad de valores nulos por columna:\n",
      "location_key                                    0\n",
      "date                                            0\n",
      "country_code                                    0\n",
      "country_name                                    0\n",
      "new_confirmed                             5839054\n",
      "new_deceased                              5893738\n",
      "cumulative_confirmed                      5838685\n",
      "cumulative_deceased                       5893376\n",
      "cumulative_vaccine_doses_administered    11948128\n",
      "population                                 532167\n",
      "population_male                           1123794\n",
      "population_female                         1123794\n",
      "population_rural                         12196237\n",
      "population_urban                         12196237\n",
      "population_density                       12196237\n",
      "human_development_index                   6705106\n",
      "population_age_00_09                      1466680\n",
      "population_age_10_19                      1466680\n",
      "population_age_20_29                      1466680\n",
      "population_age_30_39                      1466680\n",
      "population_age_40_49                      1466680\n",
      "population_age_50_59                      1466680\n",
      "population_age_60_69                      1466680\n",
      "population_age_70_79                      1466680\n",
      "population_age_80_and_older               1466680\n",
      "gdp_usd                                  12196237\n",
      "gdp_per_capita_usd                       12195246\n",
      "latitude                                   422166\n",
      "longitude                                  422166\n",
      "area_sq_km                                1883891\n",
      "smoking_prevalence                       12201192\n",
      "diabetes_prevalence                      12196237\n",
      "infant_mortality_rate                    12197228\n",
      "nurses_per_1000                          12197228\n",
      "physicians_per_1000                      12198219\n",
      "average_temperature_celsius                532872\n",
      "minimum_temperature_celsius                532955\n",
      "maximum_temperature_celsius                532990\n",
      "rainfall_mm                                607817\n",
      "relative_humidity                          533464\n",
      "population_largest_city                  12196237\n",
      "area_rural_sq_km                         12198219\n",
      "area_urban_sq_km                         12198219\n",
      "life_expectancy                          12196237\n",
      "adult_male_mortality_rate                12196237\n",
      "adult_female_mortality_rate              12196237\n",
      "pollution_mortality_rate                 12197228\n",
      "comorbidity_mortality_rate               12197228\n",
      "new_recovered                            10119303\n",
      "cumulative_recovered                     10120136\n",
      "dtype: int64\n"
     ]
    }
   ],
   "source": [
    "# Contar los valores nulos en cada columna\n",
    "valores_nulos = data_latinoamerica.isnull().sum()\n",
    "print(\"Cantidad de valores nulos por columna:\")\n",
    "print(valores_nulos)"
   ]
  },
  {
   "cell_type": "markdown",
   "metadata": {},
   "source": [
    "## Contamos la cantidad de elementos que tiene cada una de las columnas"
   ]
  },
  {
   "cell_type": "code",
   "execution_count": 7,
   "metadata": {},
   "outputs": [
    {
     "name": "stdout",
     "output_type": "stream",
     "text": [
      "Cantidad de valores no nulos por columna:\n",
      "location_key                             12216057\n",
      "date                                     12216057\n",
      "country_code                             12216057\n",
      "country_name                             12216057\n",
      "new_confirmed                             6377003\n",
      "new_deceased                              6322319\n",
      "cumulative_confirmed                      6377372\n",
      "cumulative_deceased                       6322681\n",
      "cumulative_vaccine_doses_administered      267929\n",
      "population                               11683890\n",
      "population_male                          11092263\n",
      "population_female                        11092263\n",
      "population_rural                            19820\n",
      "population_urban                            19820\n",
      "population_density                          19820\n",
      "human_development_index                   5510951\n",
      "population_age_00_09                     10749377\n",
      "population_age_10_19                     10749377\n",
      "population_age_20_29                     10749377\n",
      "population_age_30_39                     10749377\n",
      "population_age_40_49                     10749377\n",
      "population_age_50_59                     10749377\n",
      "population_age_60_69                     10749377\n",
      "population_age_70_79                     10749377\n",
      "population_age_80_and_older              10749377\n",
      "gdp_usd                                     19820\n",
      "gdp_per_capita_usd                          20811\n",
      "latitude                                 11793891\n",
      "longitude                                11793891\n",
      "area_sq_km                               10332166\n",
      "smoking_prevalence                          14865\n",
      "diabetes_prevalence                         19820\n",
      "infant_mortality_rate                       18829\n",
      "nurses_per_1000                             18829\n",
      "physicians_per_1000                         17838\n",
      "average_temperature_celsius              11683185\n",
      "minimum_temperature_celsius              11683102\n",
      "maximum_temperature_celsius              11683067\n",
      "rainfall_mm                              11608240\n",
      "relative_humidity                        11682593\n",
      "population_largest_city                     19820\n",
      "area_rural_sq_km                            17838\n",
      "area_urban_sq_km                            17838\n",
      "life_expectancy                             19820\n",
      "adult_male_mortality_rate                   19820\n",
      "adult_female_mortality_rate                 19820\n",
      "pollution_mortality_rate                    18829\n",
      "comorbidity_mortality_rate                  18829\n",
      "new_recovered                             2096754\n",
      "cumulative_recovered                      2095921\n",
      "dtype: int64\n"
     ]
    }
   ],
   "source": [
    "# Contar los valores no nulos en cada columna\n",
    "valores_no_nulos = data_latinoamerica.notnull().sum()\n",
    "print(\"Cantidad de valores no nulos por columna:\")\n",
    "print(valores_no_nulos)\n"
   ]
  },
  {
   "cell_type": "markdown",
   "metadata": {},
   "source": [
    "## Se busca conocer el tamaño del dataframe y el nombre de las columnas"
   ]
  },
  {
   "cell_type": "code",
   "execution_count": 8,
   "metadata": {},
   "outputs": [
    {
     "name": "stdout",
     "output_type": "stream",
     "text": [
      "Tamaño del DataFrame: (12216057, 50)\n",
      "Columnas Index(['location_key', 'date', 'country_code', 'country_name', 'new_confirmed',\n",
      "       'new_deceased', 'cumulative_confirmed', 'cumulative_deceased',\n",
      "       'cumulative_vaccine_doses_administered', 'population',\n",
      "       'population_male', 'population_female', 'population_rural',\n",
      "       'population_urban', 'population_density', 'human_development_index',\n",
      "       'population_age_00_09', 'population_age_10_19', 'population_age_20_29',\n",
      "       'population_age_30_39', 'population_age_40_49', 'population_age_50_59',\n",
      "       'population_age_60_69', 'population_age_70_79',\n",
      "       'population_age_80_and_older', 'gdp_usd', 'gdp_per_capita_usd',\n",
      "       'latitude', 'longitude', 'area_sq_km', 'smoking_prevalence',\n",
      "       'diabetes_prevalence', 'infant_mortality_rate', 'nurses_per_1000',\n",
      "       'physicians_per_1000', 'average_temperature_celsius',\n",
      "       'minimum_temperature_celsius', 'maximum_temperature_celsius',\n",
      "       'rainfall_mm', 'relative_humidity', 'population_largest_city',\n",
      "       'area_rural_sq_km', 'area_urban_sq_km', 'life_expectancy',\n",
      "       'adult_male_mortality_rate', 'adult_female_mortality_rate',\n",
      "       'pollution_mortality_rate', 'comorbidity_mortality_rate',\n",
      "       'new_recovered', 'cumulative_recovered'],\n",
      "      dtype='object')\n"
     ]
    }
   ],
   "source": [
    "# Obtener el tamaño del DataFrame\n",
    "tamano = data_latinoamerica.shape\n",
    "\n",
    "# Obtener el nombre de las columnas\n",
    "columnas = data_latinoamerica.columns\n",
    "\n",
    "# Imprimir el tamaño y las columnas del DataFrame\n",
    "print(\"Tamaño del DataFrame:\", tamano)\n",
    "print(\"Columnas\", columnas)\n",
    "\n"
   ]
  },
  {
   "cell_type": "markdown",
   "metadata": {},
   "source": [
    "# se verifica la que tipo de elemento tienen las columnas 'location_key', 'country_code' y 'country_name'"
   ]
  },
  {
   "cell_type": "code",
   "execution_count": 9,
   "metadata": {},
   "outputs": [
    {
     "name": "stdout",
     "output_type": "stream",
     "text": [
      "         location_key country_code country_name\n",
      "0                  AR           AR    Argentina\n",
      "991              AR_A           AR    Argentina\n",
      "1982         AR_A_007           AR    Argentina\n",
      "2973         AR_A_014           AR    Argentina\n",
      "3964         AR_A_021           AR    Argentina\n",
      "...               ...          ...          ...\n",
      "12211102         VE_U           VE    Venezuela\n",
      "12212093         VE_V           VE    Venezuela\n",
      "12213084         VE_X           VE    Venezuela\n",
      "12214075         VE_Y           VE    Venezuela\n",
      "12215066         VE_Z           VE    Venezuela\n",
      "\n",
      "[12327 rows x 3 columns]\n"
     ]
    }
   ],
   "source": [
    "columnas_relevantes = ['location_key', 'country_code', 'country_name']\n",
    "datos_unicos = data_latinoamerica[columnas_relevantes].drop_duplicates()\n",
    "\n",
    "print(datos_unicos)\n"
   ]
  },
  {
   "cell_type": "markdown",
   "metadata": {},
   "source": [
    "## Se crea un grupo de paises sobre los cuales se estudiara los efectos y concecuencias del COVId-19"
   ]
  },
  {
   "cell_type": "code",
   "execution_count": 10,
   "metadata": {},
   "outputs": [],
   "source": [
    "#creo una lista con los paises seleccionados:\n",
    "Paises_seleccionados = [\"Colombia\", \"Argentina\", \"Chile\", \"Mexico\", \"Peru\" , \"Brazil\"]\n",
    "#se crea un amascara por paises y \n",
    "data_latinoamerica_filtro_1 = data_latinoamerica[data_latinoamerica[\"country_name\"].isin(Paises_seleccionados)]\n"
   ]
  },
  {
   "cell_type": "code",
   "execution_count": 11,
   "metadata": {},
   "outputs": [
    {
     "data": {
      "text/plain": [
       "(11970289, 50)"
      ]
     },
     "execution_count": 11,
     "metadata": {},
     "output_type": "execute_result"
    }
   ],
   "source": [
    "#verifico cantidad de datos\n",
    "np.shape(data_latinoamerica_filtro_1)\n"
   ]
  },
  {
   "cell_type": "markdown",
   "metadata": {},
   "source": [
    "## Como primer paso de limpieza de datos se verifican los datos nulos por columna."
   ]
  },
  {
   "cell_type": "code",
   "execution_count": 12,
   "metadata": {},
   "outputs": [
    {
     "data": {
      "text/plain": [
       "location_key                                    0\n",
       "date                                            0\n",
       "country_code                                    0\n",
       "country_name                                    0\n",
       "new_confirmed                             5620283\n",
       "new_deceased                              5661788\n",
       "cumulative_confirmed                      5619937\n",
       "cumulative_deceased                       5661426\n",
       "cumulative_vaccine_doses_administered    11706131\n",
       "population                                 521266\n",
       "population_male                           1122803\n",
       "population_female                         1122803\n",
       "population_rural                         11964343\n",
       "population_urban                         11964343\n",
       "population_density                       11964343\n",
       "human_development_index                   6472221\n",
       "population_age_00_09                      1465689\n",
       "population_age_10_19                      1465689\n",
       "population_age_20_29                      1465689\n",
       "population_age_30_39                      1465689\n",
       "population_age_40_49                      1465689\n",
       "population_age_50_59                      1465689\n",
       "population_age_60_69                      1465689\n",
       "population_age_70_79                      1465689\n",
       "population_age_80_and_older               1465689\n",
       "gdp_usd                                  11963352\n",
       "gdp_per_capita_usd                       11962361\n",
       "latitude                                   422166\n",
       "longitude                                  422166\n",
       "area_sq_km                                1871999\n",
       "smoking_prevalence                       11964343\n",
       "diabetes_prevalence                      11964343\n",
       "infant_mortality_rate                    11964343\n",
       "nurses_per_1000                          11964343\n",
       "physicians_per_1000                      11964343\n",
       "average_temperature_celsius                529625\n",
       "minimum_temperature_celsius                529700\n",
       "maximum_temperature_celsius                529736\n",
       "rainfall_mm                                603612\n",
       "relative_humidity                          530186\n",
       "population_largest_city                  11964343\n",
       "area_rural_sq_km                         11964343\n",
       "area_urban_sq_km                         11964343\n",
       "life_expectancy                          11964343\n",
       "adult_male_mortality_rate                11964343\n",
       "adult_female_mortality_rate              11964343\n",
       "pollution_mortality_rate                 11964343\n",
       "comorbidity_mortality_rate               11964343\n",
       "new_recovered                             9873535\n",
       "cumulative_recovered                      9874368\n",
       "dtype: int64"
      ]
     },
     "execution_count": 12,
     "metadata": {},
     "output_type": "execute_result"
    }
   ],
   "source": [
    "#verifico cantidad de datos nulos por columna\n",
    "data_latinoamerica_filtro_1.isnull().sum()"
   ]
  },
  {
   "cell_type": "markdown",
   "metadata": {},
   "source": [
    "## A raiz de la gran cantidad de nulos encontrados procedemos a analizar cada columna con la finalidad de obtener mas informacion que nos permita tratar de forma adecuada la base de datos "
   ]
  },
  {
   "cell_type": "code",
   "execution_count": 13,
   "metadata": {},
   "outputs": [
    {
     "data": {
      "text/plain": [
       "location_key\n",
       "AR              991\n",
       "MX_GRO_12040    991\n",
       "MX_GRO_12031    991\n",
       "MX_GRO_12032    991\n",
       "MX_GRO_12033    991\n",
       "               ... \n",
       "BR_PR_411880    991\n",
       "BR_PR_411885    991\n",
       "BR_PR_411890    991\n",
       "BR_PR_411900    991\n",
       "PE_UCA_0401     991\n",
       "Name: count, Length: 12079, dtype: int64"
      ]
     },
     "execution_count": 13,
     "metadata": {},
     "output_type": "execute_result"
    }
   ],
   "source": [
    "#se filtra la columna location_key para ver sus datos e identificar posibles duplicados\n",
    "data_latinoamerica_filtro_1.location_key.value_counts()"
   ]
  },
  {
   "cell_type": "markdown",
   "metadata": {},
   "source": [
    "### podemos observar que obtenemos datos duplicados de la columna country_code, por lo que filtramos los datos por codigo de pais"
   ]
  },
  {
   "cell_type": "code",
   "execution_count": 14,
   "metadata": {},
   "outputs": [
    {
     "data": {
      "text/plain": [
       "(5946, 50)"
      ]
     },
     "execution_count": 14,
     "metadata": {},
     "output_type": "execute_result"
    }
   ],
   "source": [
    "data_latinoamerica_filtro_2 = data_latinoamerica [data_latinoamerica[\"location_key\"].isin([\"AR\",\"BR\",\"CO\",\"CL\",\"MX\",\"PE\"])]\n",
    "data_latinoamerica_filtro_2.shape"
   ]
  },
  {
   "cell_type": "code",
   "execution_count": 15,
   "metadata": {},
   "outputs": [],
   "source": [
    "# renombramos el dataframe data_latinoamerica_filtro_2 como data_latinoamerica para seguir tratandola\n",
    "data_latinoamerica = data_latinoamerica_filtro_2"
   ]
  },
  {
   "cell_type": "markdown",
   "metadata": {},
   "source": [
    "## Transformacion de la columna 'date' a tipo fecha"
   ]
  },
  {
   "cell_type": "code",
   "execution_count": 16,
   "metadata": {},
   "outputs": [],
   "source": [
    "data_latinoamerica['date'] = pd.to_datetime(data_latinoamerica['date'])"
   ]
  },
  {
   "cell_type": "markdown",
   "metadata": {},
   "source": [
    "## Se ordena el data set por pais y fecha"
   ]
  },
  {
   "cell_type": "code",
   "execution_count": 17,
   "metadata": {},
   "outputs": [],
   "source": [
    "# Ordenamos los datos previo a completar los acumulados de las vacunaciones\n",
    "\n",
    "data_latinoamerica = data_latinoamerica.sort_values(by=['country_name', 'date'], ascending=True)"
   ]
  },
  {
   "cell_type": "markdown",
   "metadata": {},
   "source": [
    "## Se procede a filtar el dataset para crear el estudio desde el 01/01/2021"
   ]
  },
  {
   "cell_type": "code",
   "execution_count": 18,
   "metadata": {},
   "outputs": [
    {
     "data": {
      "text/plain": [
       "(3750, 50)"
      ]
     },
     "execution_count": 18,
     "metadata": {},
     "output_type": "execute_result"
    }
   ],
   "source": [
    "# filtramos los datos por fechas para trabajar con datos posteriores al 31/12/2020\n",
    "\n",
    "data_latinoamerica = data_latinoamerica [data_latinoamerica[\"date\"] > \"2020-12-31\" ]\n",
    "\n",
    "data_latinoamerica.shape"
   ]
  },
  {
   "cell_type": "code",
   "execution_count": 19,
   "metadata": {},
   "outputs": [
    {
     "name": "stdout",
     "output_type": "stream",
     "text": [
      "Cantidad de valores nulos por columna:\n",
      "location_key                                0\n",
      "date                                        0\n",
      "country_code                                0\n",
      "country_name                                0\n",
      "new_confirmed                              21\n",
      "new_deceased                               21\n",
      "cumulative_confirmed                       21\n",
      "cumulative_deceased                        21\n",
      "cumulative_vaccine_doses_administered     589\n",
      "population                                  0\n",
      "population_male                             0\n",
      "population_female                           0\n",
      "population_rural                            0\n",
      "population_urban                            0\n",
      "population_density                          0\n",
      "human_development_index                     0\n",
      "population_age_00_09                        0\n",
      "population_age_10_19                        0\n",
      "population_age_20_29                        0\n",
      "population_age_30_39                        0\n",
      "population_age_40_49                        0\n",
      "population_age_50_59                        0\n",
      "population_age_60_69                        0\n",
      "population_age_70_79                        0\n",
      "population_age_80_and_older                 0\n",
      "gdp_usd                                     0\n",
      "gdp_per_capita_usd                          0\n",
      "latitude                                    0\n",
      "longitude                                   0\n",
      "area_sq_km                                  0\n",
      "smoking_prevalence                          0\n",
      "diabetes_prevalence                         0\n",
      "infant_mortality_rate                       0\n",
      "nurses_per_1000                             0\n",
      "physicians_per_1000                         0\n",
      "average_temperature_celsius                42\n",
      "minimum_temperature_celsius                41\n",
      "maximum_temperature_celsius                41\n",
      "rainfall_mm                                90\n",
      "relative_humidity                          42\n",
      "population_largest_city                     0\n",
      "area_rural_sq_km                            0\n",
      "area_urban_sq_km                            0\n",
      "life_expectancy                             0\n",
      "adult_male_mortality_rate                   0\n",
      "adult_female_mortality_rate                 0\n",
      "pollution_mortality_rate                    0\n",
      "comorbidity_mortality_rate                  0\n",
      "new_recovered                            2119\n",
      "cumulative_recovered                     2740\n",
      "dtype: int64\n"
     ]
    }
   ],
   "source": [
    "# Contar la cantidad de valores nulos por columna usando isna() y sum()\n",
    "valores_nulos = data_latinoamerica.isna().sum()\n",
    "\n",
    "# Imprimir la cantidad de valores nulos por columna\n",
    "print(\"Cantidad de valores nulos por columna:\")\n",
    "print(valores_nulos)\n",
    "\n"
   ]
  },
  {
   "cell_type": "markdown",
   "metadata": {},
   "source": [
    "## Se completan los valores faltantes (null) de las columnas 'new_recovered', 'new_deceased' y 'new_confirmed' con ceros\n"
   ]
  },
  {
   "cell_type": "code",
   "execution_count": 20,
   "metadata": {},
   "outputs": [],
   "source": [
    "# Rellenar los valores nulos en las columnas 'new_recovered', 'new_deceased' y 'new_confirmed' con ceros\n",
    "data_latinoamerica['new_recovered'] = data_latinoamerica['new_recovered'].fillna(0)\n",
    "data_latinoamerica['new_deceased'] = data_latinoamerica['new_deceased'].fillna(0)\n",
    "data_latinoamerica['new_confirmed'] = data_latinoamerica['new_confirmed'].fillna(0)\n",
    "\n"
   ]
  },
  {
   "cell_type": "markdown",
   "metadata": {},
   "source": [
    "## verificamos que se realizen los cambios sin alterr el dataframe y se verifican nulos en otras columnas"
   ]
  },
  {
   "cell_type": "code",
   "execution_count": 21,
   "metadata": {},
   "outputs": [
    {
     "data": {
      "text/plain": [
       "location_key                                0\n",
       "date                                        0\n",
       "country_code                                0\n",
       "country_name                                0\n",
       "new_confirmed                               0\n",
       "new_deceased                                0\n",
       "cumulative_confirmed                       21\n",
       "cumulative_deceased                        21\n",
       "cumulative_vaccine_doses_administered     589\n",
       "population                                  0\n",
       "population_male                             0\n",
       "population_female                           0\n",
       "population_rural                            0\n",
       "population_urban                            0\n",
       "population_density                          0\n",
       "human_development_index                     0\n",
       "population_age_00_09                        0\n",
       "population_age_10_19                        0\n",
       "population_age_20_29                        0\n",
       "population_age_30_39                        0\n",
       "population_age_40_49                        0\n",
       "population_age_50_59                        0\n",
       "population_age_60_69                        0\n",
       "population_age_70_79                        0\n",
       "population_age_80_and_older                 0\n",
       "gdp_usd                                     0\n",
       "gdp_per_capita_usd                          0\n",
       "latitude                                    0\n",
       "longitude                                   0\n",
       "area_sq_km                                  0\n",
       "smoking_prevalence                          0\n",
       "diabetes_prevalence                         0\n",
       "infant_mortality_rate                       0\n",
       "nurses_per_1000                             0\n",
       "physicians_per_1000                         0\n",
       "average_temperature_celsius                42\n",
       "minimum_temperature_celsius                41\n",
       "maximum_temperature_celsius                41\n",
       "rainfall_mm                                90\n",
       "relative_humidity                          42\n",
       "population_largest_city                     0\n",
       "area_rural_sq_km                            0\n",
       "area_urban_sq_km                            0\n",
       "life_expectancy                             0\n",
       "adult_male_mortality_rate                   0\n",
       "adult_female_mortality_rate                 0\n",
       "pollution_mortality_rate                    0\n",
       "comorbidity_mortality_rate                  0\n",
       "new_recovered                               0\n",
       "cumulative_recovered                     2740\n",
       "dtype: int64"
      ]
     },
     "execution_count": 21,
     "metadata": {},
     "output_type": "execute_result"
    }
   ],
   "source": [
    "data_latinoamerica.isna().sum()"
   ]
  },
  {
   "cell_type": "markdown",
   "metadata": {},
   "source": [
    "## Completamos la columna de new_recovered con el promedio de cada pais."
   ]
  },
  {
   "cell_type": "code",
   "execution_count": 22,
   "metadata": {},
   "outputs": [
    {
     "name": "stdout",
     "output_type": "stream",
     "text": [
      "Cantidad de valores nulos en 'new_recovered' después de llenarlos: 0\n"
     ]
    }
   ],
   "source": [
    "# Calcula el promedio de 'new_recovered' por país\n",
    "promedio_recuperados_por_pais = data_latinoamerica.groupby('country_name')['new_recovered'].mean()\n",
    "\n",
    "# Rellena los valores nulos en 'new_recovered' con el promedio específico para cada país\n",
    "for pais in data_latinoamerica['country_name'].unique():\n",
    "    mask = (data_latinoamerica['country_name'] == pais)\n",
    "    data_latinoamerica.loc[mask, 'new_recovered'].fillna(promedio_recuperados_por_pais[pais], inplace=True)\n",
    "\n",
    "# Verifica si los valores nulos se han llenado correctamente\n",
    "nulos_new_recovered = data_latinoamerica['new_recovered'].isnull().sum()\n",
    "print(\"Cantidad de valores nulos en 'new_recovered' después de llenarlos:\", nulos_new_recovered)\n"
   ]
  },
  {
   "cell_type": "markdown",
   "metadata": {},
   "source": [
    "## En el caso de las columnas 'cumulative_confirmed','cumulative_deceased' y 'cumulative_recovered' completamos considerando que el primer dato de cada pais es nulo por lo que se asigna el primer dato first_row [] de cada uno, y en segundo lugar se completa con el acumulado anterior utilizando cumsum()"
   ]
  },
  {
   "cell_type": "code",
   "execution_count": 23,
   "metadata": {},
   "outputs": [
    {
     "name": "stdout",
     "output_type": "stream",
     "text": [
      "Cantidad de valores nulos después de completar los datos:\n",
      "location_key                               0\n",
      "date                                       0\n",
      "country_code                               0\n",
      "country_name                               0\n",
      "new_confirmed                              0\n",
      "new_deceased                               0\n",
      "cumulative_confirmed                       0\n",
      "cumulative_deceased                        0\n",
      "cumulative_vaccine_doses_administered    589\n",
      "population                                 0\n",
      "population_male                            0\n",
      "population_female                          0\n",
      "population_rural                           0\n",
      "population_urban                           0\n",
      "population_density                         0\n",
      "human_development_index                    0\n",
      "population_age_00_09                       0\n",
      "population_age_10_19                       0\n",
      "population_age_20_29                       0\n",
      "population_age_30_39                       0\n",
      "population_age_40_49                       0\n",
      "population_age_50_59                       0\n",
      "population_age_60_69                       0\n",
      "population_age_70_79                       0\n",
      "population_age_80_and_older                0\n",
      "gdp_usd                                    0\n",
      "gdp_per_capita_usd                         0\n",
      "latitude                                   0\n",
      "longitude                                  0\n",
      "area_sq_km                                 0\n",
      "smoking_prevalence                         0\n",
      "diabetes_prevalence                        0\n",
      "infant_mortality_rate                      0\n",
      "nurses_per_1000                            0\n",
      "physicians_per_1000                        0\n",
      "average_temperature_celsius               42\n",
      "minimum_temperature_celsius               41\n",
      "maximum_temperature_celsius               41\n",
      "rainfall_mm                               90\n",
      "relative_humidity                         42\n",
      "population_largest_city                    0\n",
      "area_rural_sq_km                           0\n",
      "area_urban_sq_km                           0\n",
      "life_expectancy                            0\n",
      "adult_male_mortality_rate                  0\n",
      "adult_female_mortality_rate                0\n",
      "pollution_mortality_rate                   0\n",
      "comorbidity_mortality_rate                 0\n",
      "new_recovered                              0\n",
      "cumulative_recovered                       0\n",
      "dtype: int64\n"
     ]
    }
   ],
   "source": [
    "# Verificación del primer dato\n",
    "for pais in data_latinoamerica['country_name'].unique():\n",
    "    mask = (data_latinoamerica['country_name'] == pais)\n",
    "    first_row = data_latinoamerica.loc[mask].iloc[0]\n",
    "    \n",
    "    if pd.isnull(first_row['cumulative_confirmed']):\n",
    "        data_latinoamerica.loc[mask, 'cumulative_confirmed'] = first_row['new_confirmed']\n",
    "    \n",
    "    if pd.isnull(first_row['cumulative_deceased']):\n",
    "        data_latinoamerica.loc[mask, 'cumulative_deceased'] = first_row['new_deceased']\n",
    "    \n",
    "    if pd.isnull(first_row['cumulative_recovered']):\n",
    "        data_latinoamerica.loc[mask, 'cumulative_recovered'] = first_row['new_recovered']\n",
    "\n",
    "# Cálculo acumulativo para filas restantes\n",
    "for pais in data_latinoamerica['country_name'].unique():\n",
    "    mask = (data_latinoamerica['country_name'] == pais)\n",
    "    data_latinoamerica.loc[mask, 'cumulative_confirmed'] = data_latinoamerica.loc[mask, 'new_confirmed'].cumsum()\n",
    "    data_latinoamerica.loc[mask, 'cumulative_deceased'] = data_latinoamerica.loc[mask, 'new_deceased'].cumsum()\n",
    "    data_latinoamerica.loc[mask, 'cumulative_recovered'] = data_latinoamerica.loc[mask, 'new_recovered'].cumsum()\n",
    "\n",
    "# Verificación de valores nulos después de completar los datos\n",
    "nulos_despues_de_eliminar = data_latinoamerica.isnull().sum()\n",
    "print(\"Cantidad de valores nulos después de completar los datos:\")\n",
    "print(nulos_despues_de_eliminar)\n"
   ]
  },
  {
   "cell_type": "markdown",
   "metadata": {},
   "source": [
    "## Completamos la columna 'cumulative_vaccine_doses_administered'; en este caso se toma el dato anterior y, en el caso de que fuera el primer dato del subgrupo se toma el dato posterior. Des esta forma se da continuidad a la curva en la grafica."
   ]
  },
  {
   "cell_type": "code",
   "execution_count": 24,
   "metadata": {},
   "outputs": [],
   "source": [
    "# Ordenamos los datos previo a completar los acumulados de las vacunaciones\n",
    "data_latinoamerica = data_latinoamerica.sort_values(by=['country_name', 'date'], ascending=True)"
   ]
  },
  {
   "cell_type": "code",
   "execution_count": 25,
   "metadata": {},
   "outputs": [],
   "source": [
    "# Reemplazar los valores nulos con el valor siguiente (forward fill)\n",
    "data_latinoamerica['cumulative_vaccine_doses_administered'] = data_latinoamerica.groupby('country_name')['cumulative_vaccine_doses_administered'].ffill()\n",
    "\n",
    "# Reemplazar los valores nulos restantes con el valor anterior (backward fill)\n",
    "data_latinoamerica['cumulative_vaccine_doses_administered'] = data_latinoamerica.groupby('country_name')['cumulative_vaccine_doses_administered'].bfill()\n"
   ]
  },
  {
   "cell_type": "code",
   "execution_count": 26,
   "metadata": {},
   "outputs": [
    {
     "name": "stdout",
     "output_type": "stream",
     "text": [
      "Cantidad de valores nulos después de completar los datos:\n",
      "location_key                              0\n",
      "date                                      0\n",
      "country_code                              0\n",
      "country_name                              0\n",
      "new_confirmed                             0\n",
      "new_deceased                              0\n",
      "cumulative_confirmed                      0\n",
      "cumulative_deceased                       0\n",
      "cumulative_vaccine_doses_administered     0\n",
      "population                                0\n",
      "population_male                           0\n",
      "population_female                         0\n",
      "population_rural                          0\n",
      "population_urban                          0\n",
      "population_density                        0\n",
      "human_development_index                   0\n",
      "population_age_00_09                      0\n",
      "population_age_10_19                      0\n",
      "population_age_20_29                      0\n",
      "population_age_30_39                      0\n",
      "population_age_40_49                      0\n",
      "population_age_50_59                      0\n",
      "population_age_60_69                      0\n",
      "population_age_70_79                      0\n",
      "population_age_80_and_older               0\n",
      "gdp_usd                                   0\n",
      "gdp_per_capita_usd                        0\n",
      "latitude                                  0\n",
      "longitude                                 0\n",
      "area_sq_km                                0\n",
      "smoking_prevalence                        0\n",
      "diabetes_prevalence                       0\n",
      "infant_mortality_rate                     0\n",
      "nurses_per_1000                           0\n",
      "physicians_per_1000                       0\n",
      "average_temperature_celsius              42\n",
      "minimum_temperature_celsius              41\n",
      "maximum_temperature_celsius              41\n",
      "rainfall_mm                              90\n",
      "relative_humidity                        42\n",
      "population_largest_city                   0\n",
      "area_rural_sq_km                          0\n",
      "area_urban_sq_km                          0\n",
      "life_expectancy                           0\n",
      "adult_male_mortality_rate                 0\n",
      "adult_female_mortality_rate               0\n",
      "pollution_mortality_rate                  0\n",
      "comorbidity_mortality_rate                0\n",
      "new_recovered                             0\n",
      "cumulative_recovered                      0\n",
      "dtype: int64\n"
     ]
    }
   ],
   "source": [
    "# Verificación de valores nulos después de completar los datos\n",
    "nulos_despues_de_eliminar = data_latinoamerica.isnull().sum()\n",
    "print(\"Cantidad de valores nulos después de completar los datos:\")\n",
    "print(nulos_despues_de_eliminar)"
   ]
  },
  {
   "cell_type": "code",
   "execution_count": 27,
   "metadata": {},
   "outputs": [
    {
     "data": {
      "text/html": [
       "<div>\n",
       "<style scoped>\n",
       "    .dataframe tbody tr th:only-of-type {\n",
       "        vertical-align: middle;\n",
       "    }\n",
       "\n",
       "    .dataframe tbody tr th {\n",
       "        vertical-align: top;\n",
       "    }\n",
       "\n",
       "    .dataframe thead th {\n",
       "        text-align: right;\n",
       "    }\n",
       "</style>\n",
       "<table border=\"1\" class=\"dataframe\">\n",
       "  <thead>\n",
       "    <tr style=\"text-align: right;\">\n",
       "      <th></th>\n",
       "      <th>location_key</th>\n",
       "      <th>date</th>\n",
       "      <th>country_code</th>\n",
       "      <th>country_name</th>\n",
       "      <th>new_confirmed</th>\n",
       "      <th>new_deceased</th>\n",
       "      <th>cumulative_confirmed</th>\n",
       "      <th>cumulative_deceased</th>\n",
       "      <th>cumulative_vaccine_doses_administered</th>\n",
       "      <th>population</th>\n",
       "      <th>...</th>\n",
       "      <th>population_largest_city</th>\n",
       "      <th>area_rural_sq_km</th>\n",
       "      <th>area_urban_sq_km</th>\n",
       "      <th>life_expectancy</th>\n",
       "      <th>adult_male_mortality_rate</th>\n",
       "      <th>adult_female_mortality_rate</th>\n",
       "      <th>pollution_mortality_rate</th>\n",
       "      <th>comorbidity_mortality_rate</th>\n",
       "      <th>new_recovered</th>\n",
       "      <th>cumulative_recovered</th>\n",
       "    </tr>\n",
       "  </thead>\n",
       "  <tbody>\n",
       "    <tr>\n",
       "      <th>366</th>\n",
       "      <td>AR</td>\n",
       "      <td>2021-01-01</td>\n",
       "      <td>AR</td>\n",
       "      <td>Argentina</td>\n",
       "      <td>2685.0</td>\n",
       "      <td>140.0</td>\n",
       "      <td>2685.0</td>\n",
       "      <td>140.0</td>\n",
       "      <td>18849.0</td>\n",
       "      <td>44938712.0</td>\n",
       "      <td>...</td>\n",
       "      <td>15057273.0</td>\n",
       "      <td>2690269.0</td>\n",
       "      <td>55032.0</td>\n",
       "      <td>76.52</td>\n",
       "      <td>147.086</td>\n",
       "      <td>79.483</td>\n",
       "      <td>26.6</td>\n",
       "      <td>15.8</td>\n",
       "      <td>0.0</td>\n",
       "      <td>0.0</td>\n",
       "    </tr>\n",
       "    <tr>\n",
       "      <th>367</th>\n",
       "      <td>AR</td>\n",
       "      <td>2021-01-02</td>\n",
       "      <td>AR</td>\n",
       "      <td>Argentina</td>\n",
       "      <td>7767.0</td>\n",
       "      <td>166.0</td>\n",
       "      <td>10452.0</td>\n",
       "      <td>306.0</td>\n",
       "      <td>20334.0</td>\n",
       "      <td>44938712.0</td>\n",
       "      <td>...</td>\n",
       "      <td>15057273.0</td>\n",
       "      <td>2690269.0</td>\n",
       "      <td>55032.0</td>\n",
       "      <td>76.52</td>\n",
       "      <td>147.086</td>\n",
       "      <td>79.483</td>\n",
       "      <td>26.6</td>\n",
       "      <td>15.8</td>\n",
       "      <td>0.0</td>\n",
       "      <td>0.0</td>\n",
       "    </tr>\n",
       "    <tr>\n",
       "      <th>368</th>\n",
       "      <td>AR</td>\n",
       "      <td>2021-01-03</td>\n",
       "      <td>AR</td>\n",
       "      <td>Argentina</td>\n",
       "      <td>4934.0</td>\n",
       "      <td>157.0</td>\n",
       "      <td>15386.0</td>\n",
       "      <td>463.0</td>\n",
       "      <td>20529.0</td>\n",
       "      <td>44938712.0</td>\n",
       "      <td>...</td>\n",
       "      <td>15057273.0</td>\n",
       "      <td>2690269.0</td>\n",
       "      <td>55032.0</td>\n",
       "      <td>76.52</td>\n",
       "      <td>147.086</td>\n",
       "      <td>79.483</td>\n",
       "      <td>26.6</td>\n",
       "      <td>15.8</td>\n",
       "      <td>0.0</td>\n",
       "      <td>0.0</td>\n",
       "    </tr>\n",
       "    <tr>\n",
       "      <th>369</th>\n",
       "      <td>AR</td>\n",
       "      <td>2021-01-04</td>\n",
       "      <td>AR</td>\n",
       "      <td>Argentina</td>\n",
       "      <td>13953.0</td>\n",
       "      <td>157.0</td>\n",
       "      <td>29339.0</td>\n",
       "      <td>620.0</td>\n",
       "      <td>25164.0</td>\n",
       "      <td>44938712.0</td>\n",
       "      <td>...</td>\n",
       "      <td>15057273.0</td>\n",
       "      <td>2690269.0</td>\n",
       "      <td>55032.0</td>\n",
       "      <td>76.52</td>\n",
       "      <td>147.086</td>\n",
       "      <td>79.483</td>\n",
       "      <td>26.6</td>\n",
       "      <td>15.8</td>\n",
       "      <td>0.0</td>\n",
       "      <td>0.0</td>\n",
       "    </tr>\n",
       "    <tr>\n",
       "      <th>370</th>\n",
       "      <td>AR</td>\n",
       "      <td>2021-01-05</td>\n",
       "      <td>AR</td>\n",
       "      <td>Argentina</td>\n",
       "      <td>14085.0</td>\n",
       "      <td>160.0</td>\n",
       "      <td>43424.0</td>\n",
       "      <td>780.0</td>\n",
       "      <td>29852.0</td>\n",
       "      <td>44938712.0</td>\n",
       "      <td>...</td>\n",
       "      <td>15057273.0</td>\n",
       "      <td>2690269.0</td>\n",
       "      <td>55032.0</td>\n",
       "      <td>76.52</td>\n",
       "      <td>147.086</td>\n",
       "      <td>79.483</td>\n",
       "      <td>26.6</td>\n",
       "      <td>15.8</td>\n",
       "      <td>0.0</td>\n",
       "      <td>0.0</td>\n",
       "    </tr>\n",
       "  </tbody>\n",
       "</table>\n",
       "<p>5 rows × 50 columns</p>\n",
       "</div>"
      ],
      "text/plain": [
       "    location_key       date country_code country_name  new_confirmed  \\\n",
       "366           AR 2021-01-01           AR    Argentina         2685.0   \n",
       "367           AR 2021-01-02           AR    Argentina         7767.0   \n",
       "368           AR 2021-01-03           AR    Argentina         4934.0   \n",
       "369           AR 2021-01-04           AR    Argentina        13953.0   \n",
       "370           AR 2021-01-05           AR    Argentina        14085.0   \n",
       "\n",
       "     new_deceased  cumulative_confirmed  cumulative_deceased  \\\n",
       "366         140.0                2685.0                140.0   \n",
       "367         166.0               10452.0                306.0   \n",
       "368         157.0               15386.0                463.0   \n",
       "369         157.0               29339.0                620.0   \n",
       "370         160.0               43424.0                780.0   \n",
       "\n",
       "     cumulative_vaccine_doses_administered  population  ...  \\\n",
       "366                                18849.0  44938712.0  ...   \n",
       "367                                20334.0  44938712.0  ...   \n",
       "368                                20529.0  44938712.0  ...   \n",
       "369                                25164.0  44938712.0  ...   \n",
       "370                                29852.0  44938712.0  ...   \n",
       "\n",
       "     population_largest_city  area_rural_sq_km  area_urban_sq_km  \\\n",
       "366               15057273.0         2690269.0           55032.0   \n",
       "367               15057273.0         2690269.0           55032.0   \n",
       "368               15057273.0         2690269.0           55032.0   \n",
       "369               15057273.0         2690269.0           55032.0   \n",
       "370               15057273.0         2690269.0           55032.0   \n",
       "\n",
       "     life_expectancy  adult_male_mortality_rate  adult_female_mortality_rate  \\\n",
       "366            76.52                    147.086                       79.483   \n",
       "367            76.52                    147.086                       79.483   \n",
       "368            76.52                    147.086                       79.483   \n",
       "369            76.52                    147.086                       79.483   \n",
       "370            76.52                    147.086                       79.483   \n",
       "\n",
       "     pollution_mortality_rate  comorbidity_mortality_rate  new_recovered  \\\n",
       "366                      26.6                        15.8            0.0   \n",
       "367                      26.6                        15.8            0.0   \n",
       "368                      26.6                        15.8            0.0   \n",
       "369                      26.6                        15.8            0.0   \n",
       "370                      26.6                        15.8            0.0   \n",
       "\n",
       "     cumulative_recovered  \n",
       "366                   0.0  \n",
       "367                   0.0  \n",
       "368                   0.0  \n",
       "369                   0.0  \n",
       "370                   0.0  \n",
       "\n",
       "[5 rows x 50 columns]"
      ]
     },
     "execution_count": 27,
     "metadata": {},
     "output_type": "execute_result"
    }
   ],
   "source": [
    "data_latinoamerica.head()"
   ]
  },
  {
   "cell_type": "markdown",
   "metadata": {},
   "source": [
    "## Guardamos el archivo con un grado elevado de limpieza y transformacion para la siguiente etapa EDA"
   ]
  },
  {
   "cell_type": "code",
   "execution_count": 28,
   "metadata": {},
   "outputs": [],
   "source": [
    "# Guardamos el dataset ya transformado\n",
    "data_latinoamerica.to_csv('data_latinoamerica_sample_clean.csv', index=False)"
   ]
  }
 ],
 "metadata": {
  "kernelspec": {
   "display_name": "Python 3",
   "language": "python",
   "name": "python3"
  },
  "language_info": {
   "codemirror_mode": {
    "name": "ipython",
    "version": 3
   },
   "file_extension": ".py",
   "mimetype": "text/x-python",
   "name": "python",
   "nbconvert_exporter": "python",
   "pygments_lexer": "ipython3",
   "version": "3.12.1"
  }
 },
 "nbformat": 4,
 "nbformat_minor": 2
}
