{
 "cells": [
  {
   "cell_type": "markdown",
   "metadata": {},
   "source": [
    "## librerias"
   ]
  },
  {
   "cell_type": "code",
   "execution_count": 41,
   "metadata": {},
   "outputs": [],
   "source": [
    "import pandas as pd\n",
    "import numpy as np\n",
    "import os\n",
    "import matplotlib as plt\n",
    "import seaborn as sns\n",
    "import scipy.interpolate as interpolate"
   ]
  },
  {
   "cell_type": "markdown",
   "metadata": {},
   "source": [
    "## Carga de datos "
   ]
  },
  {
   "cell_type": "code",
   "execution_count": 42,
   "metadata": {},
   "outputs": [],
   "source": [
    "# Leer el archivo CSV\n",
    "data_latinoamerica = pd.read_csv(\"data_latinoamerica.csv\")"
   ]
  },
  {
   "cell_type": "markdown",
   "metadata": {},
   "source": [
    "## Se crea un grupo de paises sobre los cuales se estudiara los efectos y concecuencias del COVId-19"
   ]
  },
  {
   "cell_type": "code",
   "execution_count": 43,
   "metadata": {},
   "outputs": [],
   "source": [
    "#creo una lista con los paises seleccionados:\n",
    "Paises_seleccionados = [\"Colombia\", \"Argentina\", \"Chile\", \"Mexico\", \"Peru\" , \"Brazil\"]\n",
    "#se crea un amascara por paises y \n",
    "data_latinoamerica = data_latinoamerica[data_latinoamerica[\"country_name\"].isin(Paises_seleccionados)]"
   ]
  },
  {
   "cell_type": "markdown",
   "metadata": {},
   "source": [
    "## Se procede a filtar el dataset para crear el estudio desde el 01/01/2021"
   ]
  },
  {
   "cell_type": "code",
   "execution_count": 44,
   "metadata": {},
   "outputs": [
    {
     "data": {
      "text/plain": [
       "(7549375, 50)"
      ]
     },
     "execution_count": 44,
     "metadata": {},
     "output_type": "execute_result"
    }
   ],
   "source": [
    "# filtramos los datos por fechas para trabajar con datos posteriores al 31/12/2020\n",
    "\n",
    "data_latinoamerica = data_latinoamerica [data_latinoamerica[\"date\"] > \"2020-12-31\" ]\n",
    "\n",
    "data_latinoamerica.shape"
   ]
  },
  {
   "cell_type": "code",
   "execution_count": 45,
   "metadata": {},
   "outputs": [
    {
     "name": "stdout",
     "output_type": "stream",
     "text": [
      "<class 'pandas.core.frame.DataFrame'>\n",
      "Index: 7549375 entries, 366 to 12136776\n",
      "Data columns (total 50 columns):\n",
      " #   Column                                 Dtype  \n",
      "---  ------                                 -----  \n",
      " 0   location_key                           object \n",
      " 1   date                                   object \n",
      " 2   country_code                           object \n",
      " 3   country_name                           object \n",
      " 4   new_confirmed                          float64\n",
      " 5   new_deceased                           float64\n",
      " 6   cumulative_confirmed                   float64\n",
      " 7   cumulative_deceased                    float64\n",
      " 8   cumulative_vaccine_doses_administered  float64\n",
      " 9   population                             float64\n",
      " 10  population_male                        float64\n",
      " 11  population_female                      float64\n",
      " 12  population_rural                       float64\n",
      " 13  population_urban                       float64\n",
      " 14  population_density                     float64\n",
      " 15  human_development_index                float64\n",
      " 16  population_age_00_09                   float64\n",
      " 17  population_age_10_19                   float64\n",
      " 18  population_age_20_29                   float64\n",
      " 19  population_age_30_39                   float64\n",
      " 20  population_age_40_49                   float64\n",
      " 21  population_age_50_59                   float64\n",
      " 22  population_age_60_69                   float64\n",
      " 23  population_age_70_79                   float64\n",
      " 24  population_age_80_and_older            float64\n",
      " 25  gdp_usd                                float64\n",
      " 26  gdp_per_capita_usd                     float64\n",
      " 27  latitude                               float64\n",
      " 28  longitude                              float64\n",
      " 29  area_sq_km                             float64\n",
      " 30  smoking_prevalence                     float64\n",
      " 31  diabetes_prevalence                    float64\n",
      " 32  infant_mortality_rate                  float64\n",
      " 33  nurses_per_1000                        float64\n",
      " 34  physicians_per_1000                    float64\n",
      " 35  average_temperature_celsius            float64\n",
      " 36  minimum_temperature_celsius            float64\n",
      " 37  maximum_temperature_celsius            float64\n",
      " 38  rainfall_mm                            float64\n",
      " 39  relative_humidity                      float64\n",
      " 40  population_largest_city                float64\n",
      " 41  area_rural_sq_km                       float64\n",
      " 42  area_urban_sq_km                       float64\n",
      " 43  life_expectancy                        float64\n",
      " 44  adult_male_mortality_rate              float64\n",
      " 45  adult_female_mortality_rate            float64\n",
      " 46  pollution_mortality_rate               float64\n",
      " 47  comorbidity_mortality_rate             float64\n",
      " 48  new_recovered                          float64\n",
      " 49  cumulative_recovered                   float64\n",
      "dtypes: float64(46), object(4)\n",
      "memory usage: 2.9+ GB\n"
     ]
    }
   ],
   "source": [
    "data_latinoamerica.info()"
   ]
  },
  {
   "cell_type": "markdown",
   "metadata": {},
   "source": [
    "## Contamos la cantidad de nulos de todas las columnas "
   ]
  },
  {
   "cell_type": "code",
   "execution_count": 46,
   "metadata": {},
   "outputs": [
    {
     "name": "stdout",
     "output_type": "stream",
     "text": [
      "Cantidad de valores nulos por columna:\n",
      "location_key                                   0\n",
      "date                                           0\n",
      "country_code                                   0\n",
      "country_name                                   0\n",
      "new_confirmed                            3164800\n",
      "new_deceased                             3167470\n",
      "cumulative_confirmed                     3164800\n",
      "cumulative_deceased                      3167470\n",
      "cumulative_vaccine_doses_administered    7286122\n",
      "population                                328750\n",
      "population_male                           708125\n",
      "population_female                         708125\n",
      "population_rural                         7545625\n",
      "population_urban                         7545625\n",
      "population_density                       7545625\n",
      "human_development_index                  4081875\n",
      "population_age_00_09                      924375\n",
      "population_age_10_19                      924375\n",
      "population_age_20_29                      924375\n",
      "population_age_30_39                      924375\n",
      "population_age_40_49                      924375\n",
      "population_age_50_59                      924375\n",
      "population_age_60_69                      924375\n",
      "population_age_70_79                      924375\n",
      "population_age_80_and_older               924375\n",
      "gdp_usd                                  7545000\n",
      "gdp_per_capita_usd                       7544375\n",
      "latitude                                  266250\n",
      "longitude                                 266250\n",
      "area_sq_km                               1180625\n",
      "smoking_prevalence                       7545625\n",
      "diabetes_prevalence                      7545625\n",
      "infant_mortality_rate                    7545625\n",
      "nurses_per_1000                          7545625\n",
      "physicians_per_1000                      7545625\n",
      "average_temperature_celsius               365329\n",
      "minimum_temperature_celsius               365400\n",
      "maximum_temperature_celsius               365383\n",
      "rainfall_mm                               418045\n",
      "relative_humidity                         365834\n",
      "population_largest_city                  7545625\n",
      "area_rural_sq_km                         7545625\n",
      "area_urban_sq_km                         7545625\n",
      "life_expectancy                          7545625\n",
      "adult_male_mortality_rate                7545625\n",
      "adult_female_mortality_rate              7545625\n",
      "pollution_mortality_rate                 7545625\n",
      "comorbidity_mortality_rate               7545625\n",
      "new_recovered                            6480988\n",
      "cumulative_recovered                     6481609\n",
      "dtype: int64\n"
     ]
    }
   ],
   "source": [
    "# Contar los valores nulos en cada columna\n",
    "valores_nulos = data_latinoamerica.isnull().sum()\n",
    "print(\"Cantidad de valores nulos por columna:\")\n",
    "print(valores_nulos)"
   ]
  },
  {
   "cell_type": "markdown",
   "metadata": {},
   "source": [
    "## Contamos la cantidad de elementos que tiene cada una de las columnas"
   ]
  },
  {
   "cell_type": "code",
   "execution_count": 47,
   "metadata": {},
   "outputs": [
    {
     "name": "stdout",
     "output_type": "stream",
     "text": [
      "Cantidad de valores no nulos por columna:\n",
      "location_key                             7549375\n",
      "date                                     7549375\n",
      "country_code                             7549375\n",
      "country_name                             7549375\n",
      "new_confirmed                            4384575\n",
      "new_deceased                             4381905\n",
      "cumulative_confirmed                     4384575\n",
      "cumulative_deceased                      4381905\n",
      "cumulative_vaccine_doses_administered     263253\n",
      "population                               7220625\n",
      "population_male                          6841250\n",
      "population_female                        6841250\n",
      "population_rural                            3750\n",
      "population_urban                            3750\n",
      "population_density                          3750\n",
      "human_development_index                  3467500\n",
      "population_age_00_09                     6625000\n",
      "population_age_10_19                     6625000\n",
      "population_age_20_29                     6625000\n",
      "population_age_30_39                     6625000\n",
      "population_age_40_49                     6625000\n",
      "population_age_50_59                     6625000\n",
      "population_age_60_69                     6625000\n",
      "population_age_70_79                     6625000\n",
      "population_age_80_and_older              6625000\n",
      "gdp_usd                                     4375\n",
      "gdp_per_capita_usd                          5000\n",
      "latitude                                 7283125\n",
      "longitude                                7283125\n",
      "area_sq_km                               6368750\n",
      "smoking_prevalence                          3750\n",
      "diabetes_prevalence                         3750\n",
      "infant_mortality_rate                       3750\n",
      "nurses_per_1000                             3750\n",
      "physicians_per_1000                         3750\n",
      "average_temperature_celsius              7184046\n",
      "minimum_temperature_celsius              7183975\n",
      "maximum_temperature_celsius              7183992\n",
      "rainfall_mm                              7131330\n",
      "relative_humidity                        7183541\n",
      "population_largest_city                     3750\n",
      "area_rural_sq_km                            3750\n",
      "area_urban_sq_km                            3750\n",
      "life_expectancy                             3750\n",
      "adult_male_mortality_rate                   3750\n",
      "adult_female_mortality_rate                 3750\n",
      "pollution_mortality_rate                    3750\n",
      "comorbidity_mortality_rate                  3750\n",
      "new_recovered                            1068387\n",
      "cumulative_recovered                     1067766\n",
      "dtype: int64\n"
     ]
    }
   ],
   "source": [
    "# Contar los valores no nulos en cada columna\n",
    "valores_no_nulos = data_latinoamerica.notnull().sum()\n",
    "print(\"Cantidad de valores no nulos por columna:\")\n",
    "print(valores_no_nulos)\n"
   ]
  },
  {
   "cell_type": "markdown",
   "metadata": {},
   "source": [
    "# se verifica la que tipo de elemento tienen las columnas 'location_key', 'country_code' y 'country_name'"
   ]
  },
  {
   "cell_type": "code",
   "execution_count": 48,
   "metadata": {},
   "outputs": [
    {
     "name": "stdout",
     "output_type": "stream",
     "text": [
      "         location_key country_code country_name\n",
      "366                AR           AR    Argentina\n",
      "1357             AR_A           AR    Argentina\n",
      "2348         AR_A_007           AR    Argentina\n",
      "3339         AR_A_014           AR    Argentina\n",
      "4330         AR_A_021           AR    Argentina\n",
      "...               ...          ...          ...\n",
      "12132188  PE_UCA_0302           PE         Peru\n",
      "12133179  PE_UCA_0303           PE         Peru\n",
      "12134170  PE_UCA_0304           PE         Peru\n",
      "12135161  PE_UCA_0305           PE         Peru\n",
      "12136152  PE_UCA_0401           PE         Peru\n",
      "\n",
      "[12079 rows x 3 columns]\n"
     ]
    }
   ],
   "source": [
    "columnas_relevantes = ['location_key', 'country_code', 'country_name']\n",
    "datos_unicos = data_latinoamerica[columnas_relevantes].drop_duplicates()\n",
    "\n",
    "print(datos_unicos)\n"
   ]
  },
  {
   "cell_type": "markdown",
   "metadata": {},
   "source": [
    "### para poder entender mejor los valores dentro de 'location_key' se realiza un conteo de los valores unicos de esta columna"
   ]
  },
  {
   "cell_type": "code",
   "execution_count": 49,
   "metadata": {},
   "outputs": [
    {
     "data": {
      "text/plain": [
       "location_key\n",
       "PE_UCA_0401    625\n",
       "AR             625\n",
       "AR_A           625\n",
       "AR_A_007       625\n",
       "AR_A_014       625\n",
       "              ... \n",
       "AR_A_147       625\n",
       "AR_A_140       625\n",
       "AR_A_133       625\n",
       "AR_A_126       625\n",
       "AR_A_119       625\n",
       "Name: count, Length: 12079, dtype: int64"
      ]
     },
     "execution_count": 49,
     "metadata": {},
     "output_type": "execute_result"
    }
   ],
   "source": [
    "data_latinoamerica[\"location_key\"].value_counts()"
   ]
  },
  {
   "cell_type": "markdown",
   "metadata": {},
   "source": [
    "### podemos apreciar la cantidad de valores repetidos entro de estas filas, por esta razon filtramos la columna 'location_key' por los siguientes valores \"AR\", \"BR\", \"CO\", \"CL\", \"MX\", \"PE\", que son los valores por país dejando de lado el analisis perticular de cada region dentro de estos. "
   ]
  },
  {
   "cell_type": "code",
   "execution_count": 50,
   "metadata": {},
   "outputs": [],
   "source": [
    "# Primer filtro: quedarse solo con los países de interés\n",
    "data_latinoamerica = data_latinoamerica[data_latinoamerica[\"country_name\"].isin(Paises_seleccionados)]\n",
    "\n",
    "# Segundo filtro: quedarse solo con los datos agregados a nivel nacional\n",
    "data_latinoamerica = data_latinoamerica[data_latinoamerica[\"location_key\"].isin([\"AR\", \"BR\", \"CO\", \"CL\", \"MX\", \"PE\"])]\n"
   ]
  },
  {
   "cell_type": "markdown",
   "metadata": {},
   "source": [
    "como las columnas 'location_key' y 'country_code' no aportan informacion relevante, para el analisis general de cada pais, estas seran eliminadas"
   ]
  },
  {
   "cell_type": "code",
   "execution_count": 51,
   "metadata": {},
   "outputs": [],
   "source": [
    "# eliminamos las columnas 'location_key' y 'country_code'\n",
    "data_latinoamerica = data_latinoamerica.drop(columns=['location_key', 'country_code'])"
   ]
  },
  {
   "cell_type": "markdown",
   "metadata": {},
   "source": [
    "## Se completan los valores faltantes (null) de las columnas 'new_recovered', 'new_deceased' y 'new_confirmed' con ceros\n"
   ]
  },
  {
   "cell_type": "code",
   "execution_count": 52,
   "metadata": {},
   "outputs": [],
   "source": [
    "# Rellenar los valores nulos en las columnas 'new_recovered', 'new_deceased' y 'new_confirmed' con ceros\n",
    "data_latinoamerica['new_recovered'] = data_latinoamerica['new_recovered'].fillna(0)\n",
    "data_latinoamerica['new_deceased'] = data_latinoamerica['new_deceased'].fillna(0)\n",
    "data_latinoamerica['new_confirmed'] = data_latinoamerica['new_confirmed'].fillna(0)\n",
    "\n"
   ]
  },
  {
   "cell_type": "markdown",
   "metadata": {},
   "source": [
    "## verificamos que se realizen los cambios sin alterr el dataframe y se verifican nulos en otras columnas"
   ]
  },
  {
   "cell_type": "code",
   "execution_count": 53,
   "metadata": {},
   "outputs": [
    {
     "data": {
      "text/plain": [
       "date                                        0\n",
       "country_name                                0\n",
       "new_confirmed                               0\n",
       "new_deceased                                0\n",
       "cumulative_confirmed                       21\n",
       "cumulative_deceased                        21\n",
       "cumulative_vaccine_doses_administered     589\n",
       "population                                  0\n",
       "population_male                             0\n",
       "population_female                           0\n",
       "population_rural                            0\n",
       "population_urban                            0\n",
       "population_density                          0\n",
       "human_development_index                     0\n",
       "population_age_00_09                        0\n",
       "population_age_10_19                        0\n",
       "population_age_20_29                        0\n",
       "population_age_30_39                        0\n",
       "population_age_40_49                        0\n",
       "population_age_50_59                        0\n",
       "population_age_60_69                        0\n",
       "population_age_70_79                        0\n",
       "population_age_80_and_older                 0\n",
       "gdp_usd                                     0\n",
       "gdp_per_capita_usd                          0\n",
       "latitude                                    0\n",
       "longitude                                   0\n",
       "area_sq_km                                  0\n",
       "smoking_prevalence                          0\n",
       "diabetes_prevalence                         0\n",
       "infant_mortality_rate                       0\n",
       "nurses_per_1000                             0\n",
       "physicians_per_1000                         0\n",
       "average_temperature_celsius                42\n",
       "minimum_temperature_celsius                41\n",
       "maximum_temperature_celsius                41\n",
       "rainfall_mm                                90\n",
       "relative_humidity                          42\n",
       "population_largest_city                     0\n",
       "area_rural_sq_km                            0\n",
       "area_urban_sq_km                            0\n",
       "life_expectancy                             0\n",
       "adult_male_mortality_rate                   0\n",
       "adult_female_mortality_rate                 0\n",
       "pollution_mortality_rate                    0\n",
       "comorbidity_mortality_rate                  0\n",
       "new_recovered                               0\n",
       "cumulative_recovered                     2740\n",
       "dtype: int64"
      ]
     },
     "execution_count": 53,
     "metadata": {},
     "output_type": "execute_result"
    }
   ],
   "source": [
    "data_latinoamerica.isna().sum()"
   ]
  },
  {
   "cell_type": "markdown",
   "metadata": {},
   "source": [
    "## Completamos la columna de new_recovered con el promedio de cada pais."
   ]
  },
  {
   "cell_type": "code",
   "execution_count": 54,
   "metadata": {},
   "outputs": [
    {
     "name": "stdout",
     "output_type": "stream",
     "text": [
      "Cantidad de valores nulos en 'new_recovered' después de llenarlos: 0\n"
     ]
    }
   ],
   "source": [
    "# Calcula el promedio de 'new_recovered' por país\n",
    "promedio_recuperados_por_pais = data_latinoamerica.groupby('country_name')['new_recovered'].mean()\n",
    "\n",
    "# Rellena los valores nulos en 'new_recovered' con el promedio específico para cada país\n",
    "for pais in data_latinoamerica['country_name'].unique():\n",
    "    mask = (data_latinoamerica['country_name'] == pais)\n",
    "    data_latinoamerica.loc[mask, 'new_recovered'].fillna(promedio_recuperados_por_pais[pais], inplace=True)\n",
    "\n",
    "# Verifica si los valores nulos se han llenado correctamente\n",
    "nulos_new_recovered = data_latinoamerica['new_recovered'].isnull().sum()\n",
    "print(\"Cantidad de valores nulos en 'new_recovered' después de llenarlos:\", nulos_new_recovered)\n"
   ]
  },
  {
   "cell_type": "markdown",
   "metadata": {},
   "source": [
    "## En el caso de las columnas 'cumulative_confirmed','cumulative_deceased' y 'cumulative_recovered' completamos considerando que el primer dato de cada pais es nulo por lo que se asigna el primer dato first_row [] de cada uno, y en segundo lugar se completa con el acumulado anterior utilizando cumsum()"
   ]
  },
  {
   "cell_type": "code",
   "execution_count": 55,
   "metadata": {},
   "outputs": [
    {
     "name": "stdout",
     "output_type": "stream",
     "text": [
      "Cantidad de valores nulos después de completar los datos:\n",
      "date                                       0\n",
      "country_name                               0\n",
      "new_confirmed                              0\n",
      "new_deceased                               0\n",
      "cumulative_confirmed                       0\n",
      "cumulative_deceased                        0\n",
      "cumulative_vaccine_doses_administered    589\n",
      "population                                 0\n",
      "population_male                            0\n",
      "population_female                          0\n",
      "population_rural                           0\n",
      "population_urban                           0\n",
      "population_density                         0\n",
      "human_development_index                    0\n",
      "population_age_00_09                       0\n",
      "population_age_10_19                       0\n",
      "population_age_20_29                       0\n",
      "population_age_30_39                       0\n",
      "population_age_40_49                       0\n",
      "population_age_50_59                       0\n",
      "population_age_60_69                       0\n",
      "population_age_70_79                       0\n",
      "population_age_80_and_older                0\n",
      "gdp_usd                                    0\n",
      "gdp_per_capita_usd                         0\n",
      "latitude                                   0\n",
      "longitude                                  0\n",
      "area_sq_km                                 0\n",
      "smoking_prevalence                         0\n",
      "diabetes_prevalence                        0\n",
      "infant_mortality_rate                      0\n",
      "nurses_per_1000                            0\n",
      "physicians_per_1000                        0\n",
      "average_temperature_celsius               42\n",
      "minimum_temperature_celsius               41\n",
      "maximum_temperature_celsius               41\n",
      "rainfall_mm                               90\n",
      "relative_humidity                         42\n",
      "population_largest_city                    0\n",
      "area_rural_sq_km                           0\n",
      "area_urban_sq_km                           0\n",
      "life_expectancy                            0\n",
      "adult_male_mortality_rate                  0\n",
      "adult_female_mortality_rate                0\n",
      "pollution_mortality_rate                   0\n",
      "comorbidity_mortality_rate                 0\n",
      "new_recovered                              0\n",
      "cumulative_recovered                       0\n",
      "dtype: int64\n"
     ]
    }
   ],
   "source": [
    "# Verificación del primer dato\n",
    "for pais in data_latinoamerica['country_name'].unique():\n",
    "    mask = (data_latinoamerica['country_name'] == pais)\n",
    "    first_row = data_latinoamerica.loc[mask].iloc[0]\n",
    "    \n",
    "    if pd.isnull(first_row['cumulative_confirmed']):\n",
    "        data_latinoamerica.loc[mask, 'cumulative_confirmed'] = first_row['new_confirmed']\n",
    "    \n",
    "    if pd.isnull(first_row['cumulative_deceased']):\n",
    "        data_latinoamerica.loc[mask, 'cumulative_deceased'] = first_row['new_deceased']\n",
    "    \n",
    "    if pd.isnull(first_row['cumulative_recovered']):\n",
    "        data_latinoamerica.loc[mask, 'cumulative_recovered'] = first_row['new_recovered']\n",
    "\n",
    "# Cálculo acumulativo para filas restantes\n",
    "for pais in data_latinoamerica['country_name'].unique():\n",
    "    mask = (data_latinoamerica['country_name'] == pais)\n",
    "    data_latinoamerica.loc[mask, 'cumulative_confirmed'] = data_latinoamerica.loc[mask, 'new_confirmed'].cumsum()\n",
    "    data_latinoamerica.loc[mask, 'cumulative_deceased'] = data_latinoamerica.loc[mask, 'new_deceased'].cumsum()\n",
    "    data_latinoamerica.loc[mask, 'cumulative_recovered'] = data_latinoamerica.loc[mask, 'new_recovered'].cumsum()\n",
    "\n",
    "# Verificación de valores nulos después de completar los datos\n",
    "nulos_despues_de_eliminar = data_latinoamerica.isnull().sum()\n",
    "print(\"Cantidad de valores nulos después de completar los datos:\")\n",
    "print(nulos_despues_de_eliminar)\n"
   ]
  },
  {
   "cell_type": "markdown",
   "metadata": {},
   "source": [
    "## Completamos la columna 'cumulative_vaccine_doses_administered'; en este caso se toma el dato anterior y, en el caso de que fuera el primer dato del subgrupo se toma el dato posterior. Des esta forma se da continuidad a la curva en la grafica."
   ]
  },
  {
   "cell_type": "code",
   "execution_count": 56,
   "metadata": {},
   "outputs": [],
   "source": [
    "# Ordenamos los datos previo a completar los acumulados de las vacunaciones\n",
    "data_latinoamerica = data_latinoamerica.sort_values(by=['country_name', 'date'], ascending=True)"
   ]
  },
  {
   "cell_type": "code",
   "execution_count": 57,
   "metadata": {},
   "outputs": [],
   "source": [
    "# Reemplazar los valores nulos con el valor siguiente (forward fill)\n",
    "data_latinoamerica['cumulative_vaccine_doses_administered'] = data_latinoamerica.groupby('country_name')['cumulative_vaccine_doses_administered'].ffill()\n",
    "\n",
    "# Reemplazar los valores nulos restantes con el valor anterior (backward fill)\n",
    "data_latinoamerica['cumulative_vaccine_doses_administered'] = data_latinoamerica.groupby('country_name')['cumulative_vaccine_doses_administered'].bfill()\n"
   ]
  },
  {
   "cell_type": "code",
   "execution_count": 58,
   "metadata": {},
   "outputs": [
    {
     "name": "stdout",
     "output_type": "stream",
     "text": [
      "Cantidad de valores nulos después de completar los datos:\n",
      "date                                      0\n",
      "country_name                              0\n",
      "new_confirmed                             0\n",
      "new_deceased                              0\n",
      "cumulative_confirmed                      0\n",
      "cumulative_deceased                       0\n",
      "cumulative_vaccine_doses_administered     0\n",
      "population                                0\n",
      "population_male                           0\n",
      "population_female                         0\n",
      "population_rural                          0\n",
      "population_urban                          0\n",
      "population_density                        0\n",
      "human_development_index                   0\n",
      "population_age_00_09                      0\n",
      "population_age_10_19                      0\n",
      "population_age_20_29                      0\n",
      "population_age_30_39                      0\n",
      "population_age_40_49                      0\n",
      "population_age_50_59                      0\n",
      "population_age_60_69                      0\n",
      "population_age_70_79                      0\n",
      "population_age_80_and_older               0\n",
      "gdp_usd                                   0\n",
      "gdp_per_capita_usd                        0\n",
      "latitude                                  0\n",
      "longitude                                 0\n",
      "area_sq_km                                0\n",
      "smoking_prevalence                        0\n",
      "diabetes_prevalence                       0\n",
      "infant_mortality_rate                     0\n",
      "nurses_per_1000                           0\n",
      "physicians_per_1000                       0\n",
      "average_temperature_celsius              42\n",
      "minimum_temperature_celsius              41\n",
      "maximum_temperature_celsius              41\n",
      "rainfall_mm                              90\n",
      "relative_humidity                        42\n",
      "population_largest_city                   0\n",
      "area_rural_sq_km                          0\n",
      "area_urban_sq_km                          0\n",
      "life_expectancy                           0\n",
      "adult_male_mortality_rate                 0\n",
      "adult_female_mortality_rate               0\n",
      "pollution_mortality_rate                  0\n",
      "comorbidity_mortality_rate                0\n",
      "new_recovered                             0\n",
      "cumulative_recovered                      0\n",
      "dtype: int64\n"
     ]
    }
   ],
   "source": [
    "# Verificación de valores nulos después de completar los datos\n",
    "nulos_despues_de_eliminar = data_latinoamerica.isnull().sum()\n",
    "print(\"Cantidad de valores nulos después de completar los datos:\")\n",
    "print(nulos_despues_de_eliminar)"
   ]
  },
  {
   "cell_type": "code",
   "execution_count": 59,
   "metadata": {},
   "outputs": [
    {
     "data": {
      "text/html": [
       "<div>\n",
       "<style scoped>\n",
       "    .dataframe tbody tr th:only-of-type {\n",
       "        vertical-align: middle;\n",
       "    }\n",
       "\n",
       "    .dataframe tbody tr th {\n",
       "        vertical-align: top;\n",
       "    }\n",
       "\n",
       "    .dataframe thead th {\n",
       "        text-align: right;\n",
       "    }\n",
       "</style>\n",
       "<table border=\"1\" class=\"dataframe\">\n",
       "  <thead>\n",
       "    <tr style=\"text-align: right;\">\n",
       "      <th></th>\n",
       "      <th>date</th>\n",
       "      <th>country_name</th>\n",
       "      <th>new_confirmed</th>\n",
       "      <th>new_deceased</th>\n",
       "      <th>cumulative_confirmed</th>\n",
       "      <th>cumulative_deceased</th>\n",
       "      <th>cumulative_vaccine_doses_administered</th>\n",
       "      <th>population</th>\n",
       "      <th>population_male</th>\n",
       "      <th>population_female</th>\n",
       "      <th>...</th>\n",
       "      <th>population_largest_city</th>\n",
       "      <th>area_rural_sq_km</th>\n",
       "      <th>area_urban_sq_km</th>\n",
       "      <th>life_expectancy</th>\n",
       "      <th>adult_male_mortality_rate</th>\n",
       "      <th>adult_female_mortality_rate</th>\n",
       "      <th>pollution_mortality_rate</th>\n",
       "      <th>comorbidity_mortality_rate</th>\n",
       "      <th>new_recovered</th>\n",
       "      <th>cumulative_recovered</th>\n",
       "    </tr>\n",
       "  </thead>\n",
       "  <tbody>\n",
       "    <tr>\n",
       "      <th>366</th>\n",
       "      <td>2021-01-01</td>\n",
       "      <td>Argentina</td>\n",
       "      <td>2685.0</td>\n",
       "      <td>140.0</td>\n",
       "      <td>2685.0</td>\n",
       "      <td>140.0</td>\n",
       "      <td>18849.0</td>\n",
       "      <td>44938712.0</td>\n",
       "      <td>19523766.0</td>\n",
       "      <td>20593330.0</td>\n",
       "      <td>...</td>\n",
       "      <td>15057273.0</td>\n",
       "      <td>2690269.0</td>\n",
       "      <td>55032.0</td>\n",
       "      <td>76.52</td>\n",
       "      <td>147.086</td>\n",
       "      <td>79.483</td>\n",
       "      <td>26.6</td>\n",
       "      <td>15.8</td>\n",
       "      <td>0.0</td>\n",
       "      <td>0.0</td>\n",
       "    </tr>\n",
       "    <tr>\n",
       "      <th>367</th>\n",
       "      <td>2021-01-02</td>\n",
       "      <td>Argentina</td>\n",
       "      <td>7767.0</td>\n",
       "      <td>166.0</td>\n",
       "      <td>10452.0</td>\n",
       "      <td>306.0</td>\n",
       "      <td>20334.0</td>\n",
       "      <td>44938712.0</td>\n",
       "      <td>19523766.0</td>\n",
       "      <td>20593330.0</td>\n",
       "      <td>...</td>\n",
       "      <td>15057273.0</td>\n",
       "      <td>2690269.0</td>\n",
       "      <td>55032.0</td>\n",
       "      <td>76.52</td>\n",
       "      <td>147.086</td>\n",
       "      <td>79.483</td>\n",
       "      <td>26.6</td>\n",
       "      <td>15.8</td>\n",
       "      <td>0.0</td>\n",
       "      <td>0.0</td>\n",
       "    </tr>\n",
       "    <tr>\n",
       "      <th>368</th>\n",
       "      <td>2021-01-03</td>\n",
       "      <td>Argentina</td>\n",
       "      <td>4934.0</td>\n",
       "      <td>157.0</td>\n",
       "      <td>15386.0</td>\n",
       "      <td>463.0</td>\n",
       "      <td>20529.0</td>\n",
       "      <td>44938712.0</td>\n",
       "      <td>19523766.0</td>\n",
       "      <td>20593330.0</td>\n",
       "      <td>...</td>\n",
       "      <td>15057273.0</td>\n",
       "      <td>2690269.0</td>\n",
       "      <td>55032.0</td>\n",
       "      <td>76.52</td>\n",
       "      <td>147.086</td>\n",
       "      <td>79.483</td>\n",
       "      <td>26.6</td>\n",
       "      <td>15.8</td>\n",
       "      <td>0.0</td>\n",
       "      <td>0.0</td>\n",
       "    </tr>\n",
       "    <tr>\n",
       "      <th>369</th>\n",
       "      <td>2021-01-04</td>\n",
       "      <td>Argentina</td>\n",
       "      <td>13953.0</td>\n",
       "      <td>157.0</td>\n",
       "      <td>29339.0</td>\n",
       "      <td>620.0</td>\n",
       "      <td>25164.0</td>\n",
       "      <td>44938712.0</td>\n",
       "      <td>19523766.0</td>\n",
       "      <td>20593330.0</td>\n",
       "      <td>...</td>\n",
       "      <td>15057273.0</td>\n",
       "      <td>2690269.0</td>\n",
       "      <td>55032.0</td>\n",
       "      <td>76.52</td>\n",
       "      <td>147.086</td>\n",
       "      <td>79.483</td>\n",
       "      <td>26.6</td>\n",
       "      <td>15.8</td>\n",
       "      <td>0.0</td>\n",
       "      <td>0.0</td>\n",
       "    </tr>\n",
       "    <tr>\n",
       "      <th>370</th>\n",
       "      <td>2021-01-05</td>\n",
       "      <td>Argentina</td>\n",
       "      <td>14085.0</td>\n",
       "      <td>160.0</td>\n",
       "      <td>43424.0</td>\n",
       "      <td>780.0</td>\n",
       "      <td>29852.0</td>\n",
       "      <td>44938712.0</td>\n",
       "      <td>19523766.0</td>\n",
       "      <td>20593330.0</td>\n",
       "      <td>...</td>\n",
       "      <td>15057273.0</td>\n",
       "      <td>2690269.0</td>\n",
       "      <td>55032.0</td>\n",
       "      <td>76.52</td>\n",
       "      <td>147.086</td>\n",
       "      <td>79.483</td>\n",
       "      <td>26.6</td>\n",
       "      <td>15.8</td>\n",
       "      <td>0.0</td>\n",
       "      <td>0.0</td>\n",
       "    </tr>\n",
       "  </tbody>\n",
       "</table>\n",
       "<p>5 rows × 48 columns</p>\n",
       "</div>"
      ],
      "text/plain": [
       "           date country_name  new_confirmed  new_deceased  \\\n",
       "366  2021-01-01    Argentina         2685.0         140.0   \n",
       "367  2021-01-02    Argentina         7767.0         166.0   \n",
       "368  2021-01-03    Argentina         4934.0         157.0   \n",
       "369  2021-01-04    Argentina        13953.0         157.0   \n",
       "370  2021-01-05    Argentina        14085.0         160.0   \n",
       "\n",
       "     cumulative_confirmed  cumulative_deceased  \\\n",
       "366                2685.0                140.0   \n",
       "367               10452.0                306.0   \n",
       "368               15386.0                463.0   \n",
       "369               29339.0                620.0   \n",
       "370               43424.0                780.0   \n",
       "\n",
       "     cumulative_vaccine_doses_administered  population  population_male  \\\n",
       "366                                18849.0  44938712.0       19523766.0   \n",
       "367                                20334.0  44938712.0       19523766.0   \n",
       "368                                20529.0  44938712.0       19523766.0   \n",
       "369                                25164.0  44938712.0       19523766.0   \n",
       "370                                29852.0  44938712.0       19523766.0   \n",
       "\n",
       "     population_female  ...  population_largest_city  area_rural_sq_km  \\\n",
       "366         20593330.0  ...               15057273.0         2690269.0   \n",
       "367         20593330.0  ...               15057273.0         2690269.0   \n",
       "368         20593330.0  ...               15057273.0         2690269.0   \n",
       "369         20593330.0  ...               15057273.0         2690269.0   \n",
       "370         20593330.0  ...               15057273.0         2690269.0   \n",
       "\n",
       "     area_urban_sq_km  life_expectancy  adult_male_mortality_rate  \\\n",
       "366           55032.0            76.52                    147.086   \n",
       "367           55032.0            76.52                    147.086   \n",
       "368           55032.0            76.52                    147.086   \n",
       "369           55032.0            76.52                    147.086   \n",
       "370           55032.0            76.52                    147.086   \n",
       "\n",
       "     adult_female_mortality_rate  pollution_mortality_rate  \\\n",
       "366                       79.483                      26.6   \n",
       "367                       79.483                      26.6   \n",
       "368                       79.483                      26.6   \n",
       "369                       79.483                      26.6   \n",
       "370                       79.483                      26.6   \n",
       "\n",
       "     comorbidity_mortality_rate  new_recovered  cumulative_recovered  \n",
       "366                        15.8            0.0                   0.0  \n",
       "367                        15.8            0.0                   0.0  \n",
       "368                        15.8            0.0                   0.0  \n",
       "369                        15.8            0.0                   0.0  \n",
       "370                        15.8            0.0                   0.0  \n",
       "\n",
       "[5 rows x 48 columns]"
      ]
     },
     "execution_count": 59,
     "metadata": {},
     "output_type": "execute_result"
    }
   ],
   "source": [
    "data_latinoamerica.head()"
   ]
  },
  {
   "cell_type": "markdown",
   "metadata": {},
   "source": [
    "## Guardamos el archivo con un grado elevado de limpieza y transformacion para la siguiente etapa EDA"
   ]
  },
  {
   "cell_type": "code",
   "execution_count": 60,
   "metadata": {},
   "outputs": [],
   "source": [
    "# Guardamos el dataset ya transformado\n",
    "data_latinoamerica.to_csv('data_latinoamerica_clean.csv', index=False)"
   ]
  }
 ],
 "metadata": {
  "kernelspec": {
   "display_name": "Python 3",
   "language": "python",
   "name": "python3"
  },
  "language_info": {
   "codemirror_mode": {
    "name": "ipython",
    "version": 3
   },
   "file_extension": ".py",
   "mimetype": "text/x-python",
   "name": "python",
   "nbconvert_exporter": "python",
   "pygments_lexer": "ipython3",
   "version": "3.13.3"
  }
 },
 "nbformat": 4,
 "nbformat_minor": 2
}
